{
 "cells": [
  {
   "cell_type": "code",
   "execution_count": 2,
   "id": "66208181",
   "metadata": {},
   "outputs": [
    {
     "name": "stdout",
     "output_type": "stream",
     "text": [
      "       price  model_year           model  condition  cylinders fuel  odometer  \\\n",
      "0       9400      2011.0          bmw x5       good        6.0  gas  145000.0   \n",
      "1      25500         NaN      ford f-150       good        6.0  gas   88705.0   \n",
      "2       5500      2013.0  hyundai sonata   like new        4.0  gas  110000.0   \n",
      "3       1500      2003.0      ford f-150       fair        8.0  gas       NaN   \n",
      "4      14900      2017.0    chrysler 200  excellent        4.0  gas   80903.0   \n",
      "...      ...         ...             ...        ...        ...  ...       ...   \n",
      "51520   9249      2013.0   nissan maxima   like new        6.0  gas   88136.0   \n",
      "51521   2700      2002.0     honda civic    salvage        4.0  gas  181500.0   \n",
      "51522   3950      2009.0  hyundai sonata  excellent        4.0  gas  128000.0   \n",
      "51523   7455      2013.0  toyota corolla       good        4.0  gas  139573.0   \n",
      "51524   6300      2014.0   nissan altima       good        4.0  gas       NaN   \n",
      "\n",
      "      transmission    type paint_color  is_4wd date_posted  days_listed  \n",
      "0        automatic     SUV         NaN     1.0  2018-06-23           19  \n",
      "1        automatic  pickup       white     1.0  2018-10-19           50  \n",
      "2        automatic   sedan         red     NaN  2019-02-07           79  \n",
      "3        automatic  pickup         NaN     NaN  2019-03-22            9  \n",
      "4        automatic   sedan       black     NaN  2019-04-02           28  \n",
      "...            ...     ...         ...     ...         ...          ...  \n",
      "51520    automatic   sedan       black     NaN  2018-10-03           37  \n",
      "51521    automatic   sedan       white     NaN  2018-11-14           22  \n",
      "51522    automatic   sedan        blue     NaN  2018-11-15           32  \n",
      "51523    automatic   sedan       black     NaN  2018-07-02           71  \n",
      "51524    automatic   sedan         NaN     NaN  2018-06-05           10  \n",
      "\n",
      "[51525 rows x 13 columns]\n"
     ]
    }
   ],
   "source": [
    "import pandas as pd\n",
    "import plotly.express as px\n",
    "import streamlit as st\n",
    "     \n",
    "car_data = pd.read_csv('vehicles_us.csv')\n",
    "print(car_data)"
   ]
  }
 ],
 "metadata": {
  "kernelspec": {
   "display_name": "base",
   "language": "python",
   "name": "python3"
  },
  "language_info": {
   "codemirror_mode": {
    "name": "ipython",
    "version": 3
   },
   "file_extension": ".py",
   "mimetype": "text/x-python",
   "name": "python",
   "nbconvert_exporter": "python",
   "pygments_lexer": "ipython3",
   "version": "3.12.7"
  }
 },
 "nbformat": 4,
 "nbformat_minor": 5
}
